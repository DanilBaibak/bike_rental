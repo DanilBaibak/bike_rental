{
 "cells": [
  {
   "cell_type": "markdown",
   "metadata": {},
   "source": [
    "## Analyze data and build model for predict bike sharing information"
   ]
  },
  {
   "cell_type": "code",
   "execution_count": null,
   "metadata": {},
   "outputs": [],
   "source": [
    "import pandas as pd\n",
    "import numpy as np\n",
    "\n",
    "from sklearn.ensemble import RandomForestRegressor\n",
    "from sklearn.linear_model import Ridge\n",
    "\n",
    "from sklearn.preprocessing import StandardScaler, OneHotEncoder, FunctionTransformer\n",
    "from sklearn.metrics import mean_squared_error, make_scorer\n",
    "from sklearn.pipeline import Pipeline, FeatureUnion\n",
    "from sklearn.model_selection import RandomizedSearchCV\n",
    "\n",
    "from xgboost import XGBRegressor\n",
    "\n",
    "import matplotlib.pyplot as plt\n",
    "import seaborn as sbr\n",
    "sbr.set(font_scale=1.2)\n",
    "\n",
    "%matplotlib inline"
   ]
  },
  {
   "cell_type": "code",
   "execution_count": 103,
   "metadata": {
    "collapsed": true
   },
   "outputs": [],
   "source": [
    "# you can download data from https://inclass.kaggle.com/c/hyperlee-1/data\n",
    "train_df = pd.read_csv('data/bike_sharing_train.csv')\n",
    "test_df = pd.read_csv('data/bike_sharing_test.csv')"
   ]
  },
  {
   "cell_type": "code",
   "execution_count": 87,
   "metadata": {},
   "outputs": [
    {
     "name": "stdout",
     "output_type": "stream",
     "text": [
      "Train shape:  (10886, 19)\n",
      "Test shape:  (6493, 13)\n"
     ]
    }
   ],
   "source": [
    "print('Train shape: ', train_df.shape)\n",
    "print('Test shape: ', test_df.shape)"
   ]
  },
  {
   "cell_type": "code",
   "execution_count": 9,
   "metadata": {},
   "outputs": [
    {
     "data": {
      "text/html": [
       "<div>\n",
       "<table border=\"1\" class=\"dataframe\">\n",
       "  <thead>\n",
       "    <tr style=\"text-align: right;\">\n",
       "      <th></th>\n",
       "      <th>datetime</th>\n",
       "      <th>season</th>\n",
       "      <th>holiday</th>\n",
       "      <th>workingday</th>\n",
       "      <th>weather</th>\n",
       "      <th>temp</th>\n",
       "      <th>atemp</th>\n",
       "      <th>humidity</th>\n",
       "      <th>windspeed</th>\n",
       "    </tr>\n",
       "  </thead>\n",
       "  <tbody>\n",
       "    <tr>\n",
       "      <th>0</th>\n",
       "      <td>2011-01-20 00:00:00</td>\n",
       "      <td>1</td>\n",
       "      <td>0</td>\n",
       "      <td>1</td>\n",
       "      <td>1</td>\n",
       "      <td>10.66</td>\n",
       "      <td>11.365</td>\n",
       "      <td>56</td>\n",
       "      <td>26.0027</td>\n",
       "    </tr>\n",
       "    <tr>\n",
       "      <th>1</th>\n",
       "      <td>2011-01-20 01:00:00</td>\n",
       "      <td>1</td>\n",
       "      <td>0</td>\n",
       "      <td>1</td>\n",
       "      <td>1</td>\n",
       "      <td>10.66</td>\n",
       "      <td>13.635</td>\n",
       "      <td>56</td>\n",
       "      <td>0.0000</td>\n",
       "    </tr>\n",
       "    <tr>\n",
       "      <th>2</th>\n",
       "      <td>2011-01-20 02:00:00</td>\n",
       "      <td>1</td>\n",
       "      <td>0</td>\n",
       "      <td>1</td>\n",
       "      <td>1</td>\n",
       "      <td>10.66</td>\n",
       "      <td>13.635</td>\n",
       "      <td>56</td>\n",
       "      <td>0.0000</td>\n",
       "    </tr>\n",
       "    <tr>\n",
       "      <th>3</th>\n",
       "      <td>2011-01-20 03:00:00</td>\n",
       "      <td>1</td>\n",
       "      <td>0</td>\n",
       "      <td>1</td>\n",
       "      <td>1</td>\n",
       "      <td>10.66</td>\n",
       "      <td>12.880</td>\n",
       "      <td>56</td>\n",
       "      <td>11.0014</td>\n",
       "    </tr>\n",
       "    <tr>\n",
       "      <th>4</th>\n",
       "      <td>2011-01-20 04:00:00</td>\n",
       "      <td>1</td>\n",
       "      <td>0</td>\n",
       "      <td>1</td>\n",
       "      <td>1</td>\n",
       "      <td>10.66</td>\n",
       "      <td>12.880</td>\n",
       "      <td>56</td>\n",
       "      <td>11.0014</td>\n",
       "    </tr>\n",
       "  </tbody>\n",
       "</table>\n",
       "</div>"
      ],
      "text/plain": [
       "              datetime  season  holiday  workingday  weather   temp   atemp  \\\n",
       "0  2011-01-20 00:00:00       1        0           1        1  10.66  11.365   \n",
       "1  2011-01-20 01:00:00       1        0           1        1  10.66  13.635   \n",
       "2  2011-01-20 02:00:00       1        0           1        1  10.66  13.635   \n",
       "3  2011-01-20 03:00:00       1        0           1        1  10.66  12.880   \n",
       "4  2011-01-20 04:00:00       1        0           1        1  10.66  12.880   \n",
       "\n",
       "   humidity  windspeed  \n",
       "0        56    26.0027  \n",
       "1        56     0.0000  \n",
       "2        56     0.0000  \n",
       "3        56    11.0014  \n",
       "4        56    11.0014  "
      ]
     },
     "execution_count": 9,
     "metadata": {},
     "output_type": "execute_result"
    }
   ],
   "source": [
    "test_df.head()"
   ]
  },
  {
   "cell_type": "markdown",
   "metadata": {},
   "source": [
    "#### Evaluate correlation between features"
   ]
  },
  {
   "cell_type": "code",
   "execution_count": 10,
   "metadata": {},
   "outputs": [
    {
     "data": {
      "text/html": [
       "<div>\n",
       "<table border=\"1\" class=\"dataframe\">\n",
       "  <thead>\n",
       "    <tr style=\"text-align: right;\">\n",
       "      <th></th>\n",
       "      <th>season</th>\n",
       "      <th>holiday</th>\n",
       "      <th>workingday</th>\n",
       "      <th>weather</th>\n",
       "      <th>temp</th>\n",
       "      <th>atemp</th>\n",
       "      <th>humidity</th>\n",
       "      <th>windspeed</th>\n",
       "      <th>casual</th>\n",
       "      <th>registered</th>\n",
       "      <th>count</th>\n",
       "      <th>casual_log</th>\n",
       "      <th>registered_log</th>\n",
       "      <th>count_log</th>\n",
       "    </tr>\n",
       "  </thead>\n",
       "  <tbody>\n",
       "    <tr>\n",
       "      <th>season</th>\n",
       "      <td>1.000000</td>\n",
       "      <td>0.029368</td>\n",
       "      <td>-0.008126</td>\n",
       "      <td>0.008879</td>\n",
       "      <td>0.258689</td>\n",
       "      <td>0.264744</td>\n",
       "      <td>0.190610</td>\n",
       "      <td>-0.147121</td>\n",
       "      <td>0.096758</td>\n",
       "      <td>0.164011</td>\n",
       "      <td>0.163439</td>\n",
       "      <td>0.167172</td>\n",
       "      <td>0.157381</td>\n",
       "      <td>0.160452</td>\n",
       "    </tr>\n",
       "    <tr>\n",
       "      <th>holiday</th>\n",
       "      <td>0.029368</td>\n",
       "      <td>1.000000</td>\n",
       "      <td>-0.250491</td>\n",
       "      <td>-0.007074</td>\n",
       "      <td>0.000295</td>\n",
       "      <td>-0.005215</td>\n",
       "      <td>0.001929</td>\n",
       "      <td>0.008409</td>\n",
       "      <td>0.043799</td>\n",
       "      <td>-0.020956</td>\n",
       "      <td>-0.005393</td>\n",
       "      <td>0.029487</td>\n",
       "      <td>-0.008956</td>\n",
       "      <td>-0.001231</td>\n",
       "    </tr>\n",
       "    <tr>\n",
       "      <th>workingday</th>\n",
       "      <td>-0.008126</td>\n",
       "      <td>-0.250491</td>\n",
       "      <td>1.000000</td>\n",
       "      <td>0.033772</td>\n",
       "      <td>0.029966</td>\n",
       "      <td>0.024660</td>\n",
       "      <td>-0.010880</td>\n",
       "      <td>0.013373</td>\n",
       "      <td>-0.319111</td>\n",
       "      <td>0.119460</td>\n",
       "      <td>0.011594</td>\n",
       "      <td>-0.208715</td>\n",
       "      <td>0.031922</td>\n",
       "      <td>-0.015326</td>\n",
       "    </tr>\n",
       "    <tr>\n",
       "      <th>weather</th>\n",
       "      <td>0.008879</td>\n",
       "      <td>-0.007074</td>\n",
       "      <td>0.033772</td>\n",
       "      <td>1.000000</td>\n",
       "      <td>-0.055035</td>\n",
       "      <td>-0.055376</td>\n",
       "      <td>0.406244</td>\n",
       "      <td>0.007261</td>\n",
       "      <td>-0.135918</td>\n",
       "      <td>-0.109340</td>\n",
       "      <td>-0.128655</td>\n",
       "      <td>-0.149943</td>\n",
       "      <td>-0.096462</td>\n",
       "      <td>-0.108005</td>\n",
       "    </tr>\n",
       "    <tr>\n",
       "      <th>temp</th>\n",
       "      <td>0.258689</td>\n",
       "      <td>0.000295</td>\n",
       "      <td>0.029966</td>\n",
       "      <td>-0.055035</td>\n",
       "      <td>1.000000</td>\n",
       "      <td>0.984948</td>\n",
       "      <td>-0.064949</td>\n",
       "      <td>-0.017852</td>\n",
       "      <td>0.467097</td>\n",
       "      <td>0.318571</td>\n",
       "      <td>0.394454</td>\n",
       "      <td>0.562596</td>\n",
       "      <td>0.330701</td>\n",
       "      <td>0.376587</td>\n",
       "    </tr>\n",
       "    <tr>\n",
       "      <th>atemp</th>\n",
       "      <td>0.264744</td>\n",
       "      <td>-0.005215</td>\n",
       "      <td>0.024660</td>\n",
       "      <td>-0.055376</td>\n",
       "      <td>0.984948</td>\n",
       "      <td>1.000000</td>\n",
       "      <td>-0.043536</td>\n",
       "      <td>-0.057473</td>\n",
       "      <td>0.462067</td>\n",
       "      <td>0.314635</td>\n",
       "      <td>0.389784</td>\n",
       "      <td>0.559950</td>\n",
       "      <td>0.326022</td>\n",
       "      <td>0.372167</td>\n",
       "    </tr>\n",
       "    <tr>\n",
       "      <th>humidity</th>\n",
       "      <td>0.190610</td>\n",
       "      <td>0.001929</td>\n",
       "      <td>-0.010880</td>\n",
       "      <td>0.406244</td>\n",
       "      <td>-0.064949</td>\n",
       "      <td>-0.043536</td>\n",
       "      <td>1.000000</td>\n",
       "      <td>-0.318607</td>\n",
       "      <td>-0.348187</td>\n",
       "      <td>-0.265458</td>\n",
       "      <td>-0.317371</td>\n",
       "      <td>-0.366263</td>\n",
       "      <td>-0.317667</td>\n",
       "      <td>-0.333158</td>\n",
       "    </tr>\n",
       "    <tr>\n",
       "      <th>windspeed</th>\n",
       "      <td>-0.147121</td>\n",
       "      <td>0.008409</td>\n",
       "      <td>0.013373</td>\n",
       "      <td>0.007261</td>\n",
       "      <td>-0.017852</td>\n",
       "      <td>-0.057473</td>\n",
       "      <td>-0.318607</td>\n",
       "      <td>1.000000</td>\n",
       "      <td>0.092276</td>\n",
       "      <td>0.091052</td>\n",
       "      <td>0.101369</td>\n",
       "      <td>0.116786</td>\n",
       "      <td>0.121142</td>\n",
       "      <td>0.122754</td>\n",
       "    </tr>\n",
       "    <tr>\n",
       "      <th>casual</th>\n",
       "      <td>0.096758</td>\n",
       "      <td>0.043799</td>\n",
       "      <td>-0.319111</td>\n",
       "      <td>-0.135918</td>\n",
       "      <td>0.467097</td>\n",
       "      <td>0.462067</td>\n",
       "      <td>-0.348187</td>\n",
       "      <td>0.092276</td>\n",
       "      <td>1.000000</td>\n",
       "      <td>0.497250</td>\n",
       "      <td>0.690414</td>\n",
       "      <td>0.780839</td>\n",
       "      <td>0.510717</td>\n",
       "      <td>0.579034</td>\n",
       "    </tr>\n",
       "    <tr>\n",
       "      <th>registered</th>\n",
       "      <td>0.164011</td>\n",
       "      <td>-0.020956</td>\n",
       "      <td>0.119460</td>\n",
       "      <td>-0.109340</td>\n",
       "      <td>0.318571</td>\n",
       "      <td>0.314635</td>\n",
       "      <td>-0.265458</td>\n",
       "      <td>0.091052</td>\n",
       "      <td>0.497250</td>\n",
       "      <td>1.000000</td>\n",
       "      <td>0.970948</td>\n",
       "      <td>0.629648</td>\n",
       "      <td>0.805086</td>\n",
       "      <td>0.792129</td>\n",
       "    </tr>\n",
       "    <tr>\n",
       "      <th>count</th>\n",
       "      <td>0.163439</td>\n",
       "      <td>-0.005393</td>\n",
       "      <td>0.011594</td>\n",
       "      <td>-0.128655</td>\n",
       "      <td>0.394454</td>\n",
       "      <td>0.389784</td>\n",
       "      <td>-0.317371</td>\n",
       "      <td>0.101369</td>\n",
       "      <td>0.690414</td>\n",
       "      <td>0.970948</td>\n",
       "      <td>1.000000</td>\n",
       "      <td>0.740363</td>\n",
       "      <td>0.812142</td>\n",
       "      <td>0.820181</td>\n",
       "    </tr>\n",
       "    <tr>\n",
       "      <th>casual_log</th>\n",
       "      <td>0.167172</td>\n",
       "      <td>0.029487</td>\n",
       "      <td>-0.208715</td>\n",
       "      <td>-0.149943</td>\n",
       "      <td>0.562596</td>\n",
       "      <td>0.559950</td>\n",
       "      <td>-0.366263</td>\n",
       "      <td>0.116786</td>\n",
       "      <td>0.780839</td>\n",
       "      <td>0.629648</td>\n",
       "      <td>0.740363</td>\n",
       "      <td>1.000000</td>\n",
       "      <td>0.787230</td>\n",
       "      <td>0.847033</td>\n",
       "    </tr>\n",
       "    <tr>\n",
       "      <th>registered_log</th>\n",
       "      <td>0.157381</td>\n",
       "      <td>-0.008956</td>\n",
       "      <td>0.031922</td>\n",
       "      <td>-0.096462</td>\n",
       "      <td>0.330701</td>\n",
       "      <td>0.326022</td>\n",
       "      <td>-0.317667</td>\n",
       "      <td>0.121142</td>\n",
       "      <td>0.510717</td>\n",
       "      <td>0.805086</td>\n",
       "      <td>0.812142</td>\n",
       "      <td>0.787230</td>\n",
       "      <td>1.000000</td>\n",
       "      <td>0.992579</td>\n",
       "    </tr>\n",
       "    <tr>\n",
       "      <th>count_log</th>\n",
       "      <td>0.160452</td>\n",
       "      <td>-0.001231</td>\n",
       "      <td>-0.015326</td>\n",
       "      <td>-0.108005</td>\n",
       "      <td>0.376587</td>\n",
       "      <td>0.372167</td>\n",
       "      <td>-0.333158</td>\n",
       "      <td>0.122754</td>\n",
       "      <td>0.579034</td>\n",
       "      <td>0.792129</td>\n",
       "      <td>0.820181</td>\n",
       "      <td>0.847033</td>\n",
       "      <td>0.992579</td>\n",
       "      <td>1.000000</td>\n",
       "    </tr>\n",
       "  </tbody>\n",
       "</table>\n",
       "</div>"
      ],
      "text/plain": [
       "                  season   holiday  workingday   weather      temp     atemp  \\\n",
       "season          1.000000  0.029368   -0.008126  0.008879  0.258689  0.264744   \n",
       "holiday         0.029368  1.000000   -0.250491 -0.007074  0.000295 -0.005215   \n",
       "workingday     -0.008126 -0.250491    1.000000  0.033772  0.029966  0.024660   \n",
       "weather         0.008879 -0.007074    0.033772  1.000000 -0.055035 -0.055376   \n",
       "temp            0.258689  0.000295    0.029966 -0.055035  1.000000  0.984948   \n",
       "atemp           0.264744 -0.005215    0.024660 -0.055376  0.984948  1.000000   \n",
       "humidity        0.190610  0.001929   -0.010880  0.406244 -0.064949 -0.043536   \n",
       "windspeed      -0.147121  0.008409    0.013373  0.007261 -0.017852 -0.057473   \n",
       "casual          0.096758  0.043799   -0.319111 -0.135918  0.467097  0.462067   \n",
       "registered      0.164011 -0.020956    0.119460 -0.109340  0.318571  0.314635   \n",
       "count           0.163439 -0.005393    0.011594 -0.128655  0.394454  0.389784   \n",
       "casual_log      0.167172  0.029487   -0.208715 -0.149943  0.562596  0.559950   \n",
       "registered_log  0.157381 -0.008956    0.031922 -0.096462  0.330701  0.326022   \n",
       "count_log       0.160452 -0.001231   -0.015326 -0.108005  0.376587  0.372167   \n",
       "\n",
       "                humidity  windspeed    casual  registered     count  \\\n",
       "season          0.190610  -0.147121  0.096758    0.164011  0.163439   \n",
       "holiday         0.001929   0.008409  0.043799   -0.020956 -0.005393   \n",
       "workingday     -0.010880   0.013373 -0.319111    0.119460  0.011594   \n",
       "weather         0.406244   0.007261 -0.135918   -0.109340 -0.128655   \n",
       "temp           -0.064949  -0.017852  0.467097    0.318571  0.394454   \n",
       "atemp          -0.043536  -0.057473  0.462067    0.314635  0.389784   \n",
       "humidity        1.000000  -0.318607 -0.348187   -0.265458 -0.317371   \n",
       "windspeed      -0.318607   1.000000  0.092276    0.091052  0.101369   \n",
       "casual         -0.348187   0.092276  1.000000    0.497250  0.690414   \n",
       "registered     -0.265458   0.091052  0.497250    1.000000  0.970948   \n",
       "count          -0.317371   0.101369  0.690414    0.970948  1.000000   \n",
       "casual_log     -0.366263   0.116786  0.780839    0.629648  0.740363   \n",
       "registered_log -0.317667   0.121142  0.510717    0.805086  0.812142   \n",
       "count_log      -0.333158   0.122754  0.579034    0.792129  0.820181   \n",
       "\n",
       "                casual_log  registered_log  count_log  \n",
       "season            0.167172        0.157381   0.160452  \n",
       "holiday           0.029487       -0.008956  -0.001231  \n",
       "workingday       -0.208715        0.031922  -0.015326  \n",
       "weather          -0.149943       -0.096462  -0.108005  \n",
       "temp              0.562596        0.330701   0.376587  \n",
       "atemp             0.559950        0.326022   0.372167  \n",
       "humidity         -0.366263       -0.317667  -0.333158  \n",
       "windspeed         0.116786        0.121142   0.122754  \n",
       "casual            0.780839        0.510717   0.579034  \n",
       "registered        0.629648        0.805086   0.792129  \n",
       "count             0.740363        0.812142   0.820181  \n",
       "casual_log        1.000000        0.787230   0.847033  \n",
       "registered_log    0.787230        1.000000   0.992579  \n",
       "count_log         0.847033        0.992579   1.000000  "
      ]
     },
     "execution_count": 10,
     "metadata": {},
     "output_type": "execute_result"
    }
   ],
   "source": [
    "train_df.corr()"
   ]
  },
  {
   "cell_type": "code",
   "execution_count": 11,
   "metadata": {},
   "outputs": [
    {
     "data": {
      "image/png": "[encoded data removed]",
      "text/plain": [
       "<matplotlib.figure.Figure at 0x116ae9eb8>"
      ]
     },
     "metadata": {},
     "output_type": "display_data"
    }
   ],
   "source": [
    "plt.figure(figsize=(10, 7))\n",
    "\n",
    "sbr.heatmap(train_df.corr());"
   ]
  },
  {
   "cell_type": "markdown",
   "metadata": {},
   "source": [
    "### The _temp_ and  _atemp_ are highly correlated. I'll gonna leave only temp"
   ]
  },
  {
   "cell_type": "markdown",
   "metadata": {},
   "source": [
    "### Helpers"
   ]
  },
  {
   "cell_type": "code",
   "execution_count": 76,
   "metadata": {
    "collapsed": true
   },
   "outputs": [],
   "source": [
    "# http://scikit-learn.org/stable/auto_examples/hetero_feature_union.html\n",
    "from sklearn.base import BaseEstimator, TransformerMixin\n",
    "\n",
    "class ItemSelector(BaseEstimator, TransformerMixin):\n",
    "    \"\"\"For data grouped by feature, select subset of data at a provided key.\n",
    "\n",
    "    The data is expected to be stored in a 2D data structure, where the first\n",
    "    index is over features and the second is over samples.  i.e.\n",
    "\n",
    "    >> len(data[key]) == n_samples\n",
    "\n",
    "    Please note that this is the opposite convention to scikit-learn feature\n",
    "    matrixes (where the first index corresponds to sample).\n",
    "\n",
    "    ItemSelector only requires that the collection implement getitem\n",
    "    (data[key]).  Examples include: a dict of lists, 2D numpy array, Pandas\n",
    "    DataFrame, numpy record array, etc.\n",
    "\n",
    "    >> data = {'a': [1, 5, 2, 5, 2, 8],\n",
    "               'b': [9, 4, 1, 4, 1, 3]}\n",
    "    >> ds = ItemSelector(key='a')\n",
    "    >> data['a'] == ds.transform(data)\n",
    "\n",
    "    ItemSelector is not designed to handle data grouped by sample.  (e.g. a\n",
    "    list of dicts).  If your data is structured this way, consider a\n",
    "    transformer along the lines of `sklearn.feature_extraction.DictVectorizer`.\n",
    "\n",
    "    Parameters\n",
    "    ----------\n",
    "    key : hashable, required\n",
    "        The key corresponding to the desired value in a mappable.\n",
    "    \"\"\"\n",
    "    def __init__(self, key):\n",
    "        self.key = key\n",
    "\n",
    "    def fit(self, x, y=None):\n",
    "        return self\n",
    "\n",
    "    def transform(self, data_dict):\n",
    "        return data_dict[self.key]"
   ]
  },
  {
   "cell_type": "code",
   "execution_count": 82,
   "metadata": {
    "collapsed": true
   },
   "outputs": [],
   "source": [
    "def make_submission(prediction, file_index):\n",
    "    \"\"\"Create submission for publick score\n",
    "    \n",
    "    Args:\n",
    "        prediction (list): The list of the predictions\n",
    "        file_index (str): The name of the file\n",
    "    \"\"\"\n",
    "    subm = pd.DataFrame({'datetime': test_df.datetime, 'count': prediction})\n",
    "    subm.to_csv('submissions/submission_{}.csv'.format(file_index), index=False)\n",
    "    del subm\n",
    "    \n",
    "    print('submission_{}.csv successfully created'.format(file_index))"
   ]
  },
  {
   "cell_type": "code",
   "execution_count": 81,
   "metadata": {
    "collapsed": true
   },
   "outputs": [],
   "source": [
    "def evaluate_model(model, target_column):\n",
    "    \"\"\"Evaluate model for the training and cross-validation datasets\n",
    "\n",
    "    Args:\n",
    "        model : The trained model\n",
    "        target_column (str): The name of the target column\n",
    "    \"\"\"\n",
    "    print('Error on train:', rmsle(X_train[target_column], model.predict(X_train)))\n",
    "    print('Error on test:', rmsle(X_test[target_column], model.predict(X_test)))"
   ]
  },
  {
   "cell_type": "code",
   "execution_count": 83,
   "metadata": {
    "collapsed": true
   },
   "outputs": [],
   "source": [
    "def predict_test(estimator, target_name):\n",
    "    \"\"\"Make prediction for testing datset\n",
    "    \n",
    "    Args:\n",
    "        estimator : The trained model\n",
    "        target_column (str): The name of the target column\n",
    "    \"\"\"\n",
    "    estimator.fit(prepared_train, prepared_train[target_name])\n",
    "    prediction = estimator.predict(prepared_test)\n",
    "\n",
    "    return np.expm1(prediction)"
   ]
  },
  {
   "cell_type": "code",
   "execution_count": 85,
   "metadata": {
    "collapsed": true
   },
   "outputs": [],
   "source": [
    "# Submissions are evaluated one the Root Mean Squared Logarithmic Error (RMSLE) so lets define it. \n",
    "# Also we are using common mean absolute error\n",
    "\n",
    "def rmsle(y, y_):\n",
    "    log1 = np.nan_to_num(np.array([np.log1p(v) for v in y]))\n",
    "    log2 = np.nan_to_num(np.array([np.log1p(v) for v in y_]))\n",
    "    calc = (log1 - log2) ** 2\n",
    "    return np.sqrt(np.mean(calc))\n",
    "\n",
    "rmsle_scorer = make_scorer(rmsle, greater_is_better=False)"
   ]
  },
  {
   "cell_type": "markdown",
   "metadata": {},
   "source": [
    "### Feature engineering"
   ]
  },
  {
   "cell_type": "code",
   "execution_count": 15,
   "metadata": {
    "collapsed": true
   },
   "outputs": [],
   "source": [
    "def get_day_part(hour_value):\n",
    "    if hour_value > 6 and hour_value < 10:\n",
    "        return 1\n",
    "    if hour_value >= 10 and hour_value < 16:\n",
    "        return 2\n",
    "    if hour_value >= 16 and hour_value < 20:\n",
    "        return 3\n",
    "    if hour_value >= 20 and hour_value < 24:\n",
    "        return 4\n",
    "    if hour_value >= 0 and hour_value <= 6:\n",
    "        return 5"
   ]
  },
  {
   "cell_type": "code",
   "execution_count": 16,
   "metadata": {
    "collapsed": true
   },
   "outputs": [],
   "source": [
    "def create_feautes(df):\n",
    "    df['weekday'] = df.datetime.apply(lambda p: pd.to_datetime(p).weekday())\n",
    "    df['month'] = df.datetime.apply(lambda p: pd.to_datetime(p).month)\n",
    "    df['day_part'] = df.datetime.apply(lambda p: get_day_part(pd.to_datetime(p).hour))\n",
    "    df['hour'] = df.datetime.apply(lambda p: pd.to_datetime(p).hour)\n",
    "    \n",
    "    return df"
   ]
  },
  {
   "cell_type": "markdown",
   "metadata": {},
   "source": [
    "#### Prepare traing data"
   ]
  },
  {
   "cell_type": "code",
   "execution_count": 17,
   "metadata": {
    "collapsed": true
   },
   "outputs": [],
   "source": [
    "prepared_train = create_feautes(train_df)"
   ]
  },
  {
   "cell_type": "code",
   "execution_count": 18,
   "metadata": {},
   "outputs": [
    {
     "data": {
      "text/html": [
       "<div>\n",
       "<table border=\"1\" class=\"dataframe\">\n",
       "  <thead>\n",
       "    <tr style=\"text-align: right;\">\n",
       "      <th></th>\n",
       "      <th>datetime</th>\n",
       "      <th>season</th>\n",
       "      <th>holiday</th>\n",
       "      <th>workingday</th>\n",
       "      <th>weather</th>\n",
       "      <th>temp</th>\n",
       "      <th>atemp</th>\n",
       "      <th>humidity</th>\n",
       "      <th>windspeed</th>\n",
       "      <th>casual</th>\n",
       "      <th>registered</th>\n",
       "      <th>count</th>\n",
       "      <th>casual_log</th>\n",
       "      <th>registered_log</th>\n",
       "      <th>count_log</th>\n",
       "      <th>weekday</th>\n",
       "      <th>month</th>\n",
       "      <th>day_part</th>\n",
       "      <th>hour</th>\n",
       "    </tr>\n",
       "  </thead>\n",
       "  <tbody>\n",
       "    <tr>\n",
       "      <th>0</th>\n",
       "      <td>2011-01-01 00:00:00</td>\n",
       "      <td>1</td>\n",
       "      <td>0</td>\n",
       "      <td>0</td>\n",
       "      <td>1</td>\n",
       "      <td>9.84</td>\n",
       "      <td>14.395</td>\n",
       "      <td>81</td>\n",
       "      <td>0.0</td>\n",
       "      <td>3</td>\n",
       "      <td>13</td>\n",
       "      <td>16</td>\n",
       "      <td>1.386294</td>\n",
       "      <td>2.639057</td>\n",
       "      <td>2.833213</td>\n",
       "      <td>5</td>\n",
       "      <td>1</td>\n",
       "      <td>5</td>\n",
       "      <td>0</td>\n",
       "    </tr>\n",
       "    <tr>\n",
       "      <th>1</th>\n",
       "      <td>2011-01-01 01:00:00</td>\n",
       "      <td>1</td>\n",
       "      <td>0</td>\n",
       "      <td>0</td>\n",
       "      <td>1</td>\n",
       "      <td>9.02</td>\n",
       "      <td>13.635</td>\n",
       "      <td>80</td>\n",
       "      <td>0.0</td>\n",
       "      <td>8</td>\n",
       "      <td>32</td>\n",
       "      <td>40</td>\n",
       "      <td>2.197225</td>\n",
       "      <td>3.496508</td>\n",
       "      <td>3.713572</td>\n",
       "      <td>5</td>\n",
       "      <td>1</td>\n",
       "      <td>5</td>\n",
       "      <td>1</td>\n",
       "    </tr>\n",
       "    <tr>\n",
       "      <th>2</th>\n",
       "      <td>2011-01-01 02:00:00</td>\n",
       "      <td>1</td>\n",
       "      <td>0</td>\n",
       "      <td>0</td>\n",
       "      <td>1</td>\n",
       "      <td>9.02</td>\n",
       "      <td>13.635</td>\n",
       "      <td>80</td>\n",
       "      <td>0.0</td>\n",
       "      <td>5</td>\n",
       "      <td>27</td>\n",
       "      <td>32</td>\n",
       "      <td>1.791759</td>\n",
       "      <td>3.332205</td>\n",
       "      <td>3.496508</td>\n",
       "      <td>5</td>\n",
       "      <td>1</td>\n",
       "      <td>5</td>\n",
       "      <td>2</td>\n",
       "    </tr>\n",
       "    <tr>\n",
       "      <th>3</th>\n",
       "      <td>2011-01-01 03:00:00</td>\n",
       "      <td>1</td>\n",
       "      <td>0</td>\n",
       "      <td>0</td>\n",
       "      <td>1</td>\n",
       "      <td>9.84</td>\n",
       "      <td>14.395</td>\n",
       "      <td>75</td>\n",
       "      <td>0.0</td>\n",
       "      <td>3</td>\n",
       "      <td>10</td>\n",
       "      <td>13</td>\n",
       "      <td>1.386294</td>\n",
       "      <td>2.397895</td>\n",
       "      <td>2.639057</td>\n",
       "      <td>5</td>\n",
       "      <td>1</td>\n",
       "      <td>5</td>\n",
       "      <td>3</td>\n",
       "    </tr>\n",
       "    <tr>\n",
       "      <th>4</th>\n",
       "      <td>2011-01-01 04:00:00</td>\n",
       "      <td>1</td>\n",
       "      <td>0</td>\n",
       "      <td>0</td>\n",
       "      <td>1</td>\n",
       "      <td>9.84</td>\n",
       "      <td>14.395</td>\n",
       "      <td>75</td>\n",
       "      <td>0.0</td>\n",
       "      <td>0</td>\n",
       "      <td>1</td>\n",
       "      <td>1</td>\n",
       "      <td>0.000000</td>\n",
       "      <td>0.693147</td>\n",
       "      <td>0.693147</td>\n",
       "      <td>5</td>\n",
       "      <td>1</td>\n",
       "      <td>5</td>\n",
       "      <td>4</td>\n",
       "    </tr>\n",
       "  </tbody>\n",
       "</table>\n",
       "</div>"
      ],
      "text/plain": [
       "              datetime  season  holiday  workingday  weather  temp   atemp  \\\n",
       "0  2011-01-01 00:00:00       1        0           0        1  9.84  14.395   \n",
       "1  2011-01-01 01:00:00       1        0           0        1  9.02  13.635   \n",
       "2  2011-01-01 02:00:00       1        0           0        1  9.02  13.635   \n",
       "3  2011-01-01 03:00:00       1        0           0        1  9.84  14.395   \n",
       "4  2011-01-01 04:00:00       1        0           0        1  9.84  14.395   \n",
       "\n",
       "   humidity  windspeed  casual  registered  count  casual_log  registered_log  \\\n",
       "0        81        0.0       3          13     16    1.386294        2.639057   \n",
       "1        80        0.0       8          32     40    2.197225        3.496508   \n",
       "2        80        0.0       5          27     32    1.791759        3.332205   \n",
       "3        75        0.0       3          10     13    1.386294        2.397895   \n",
       "4        75        0.0       0           1      1    0.000000        0.693147   \n",
       "\n",
       "   count_log  weekday  month  day_part  hour  \n",
       "0   2.833213        5      1         5     0  \n",
       "1   3.713572        5      1         5     1  \n",
       "2   3.496508        5      1         5     2  \n",
       "3   2.639057        5      1         5     3  \n",
       "4   0.693147        5      1         5     4  "
      ]
     },
     "execution_count": 18,
     "metadata": {},
     "output_type": "execute_result"
    }
   ],
   "source": [
    "prepared_train.head()"
   ]
  },
  {
   "cell_type": "markdown",
   "metadata": {},
   "source": [
    "#### Prepare testing data"
   ]
  },
  {
   "cell_type": "code",
   "execution_count": null,
   "metadata": {
    "collapsed": true
   },
   "outputs": [],
   "source": [
    "prepared_test = create_feautes(test_df)"
   ]
  },
  {
   "cell_type": "code",
   "execution_count": 84,
   "metadata": {},
   "outputs": [
    {
     "data": {
      "text/html": [
       "<div>\n",
       "<table border=\"1\" class=\"dataframe\">\n",
       "  <thead>\n",
       "    <tr style=\"text-align: right;\">\n",
       "      <th></th>\n",
       "      <th>datetime</th>\n",
       "      <th>season</th>\n",
       "      <th>holiday</th>\n",
       "      <th>workingday</th>\n",
       "      <th>weather</th>\n",
       "      <th>temp</th>\n",
       "      <th>atemp</th>\n",
       "      <th>humidity</th>\n",
       "      <th>windspeed</th>\n",
       "      <th>weekday</th>\n",
       "      <th>month</th>\n",
       "      <th>day_part</th>\n",
       "      <th>hour</th>\n",
       "    </tr>\n",
       "  </thead>\n",
       "  <tbody>\n",
       "    <tr>\n",
       "      <th>0</th>\n",
       "      <td>2011-01-20 00:00:00</td>\n",
       "      <td>1</td>\n",
       "      <td>0</td>\n",
       "      <td>1</td>\n",
       "      <td>1</td>\n",
       "      <td>10.66</td>\n",
       "      <td>11.365</td>\n",
       "      <td>56</td>\n",
       "      <td>26.0027</td>\n",
       "      <td>3</td>\n",
       "      <td>1</td>\n",
       "      <td>5</td>\n",
       "      <td>0</td>\n",
       "    </tr>\n",
       "    <tr>\n",
       "      <th>1</th>\n",
       "      <td>2011-01-20 01:00:00</td>\n",
       "      <td>1</td>\n",
       "      <td>0</td>\n",
       "      <td>1</td>\n",
       "      <td>1</td>\n",
       "      <td>10.66</td>\n",
       "      <td>13.635</td>\n",
       "      <td>56</td>\n",
       "      <td>0.0000</td>\n",
       "      <td>3</td>\n",
       "      <td>1</td>\n",
       "      <td>5</td>\n",
       "      <td>1</td>\n",
       "    </tr>\n",
       "    <tr>\n",
       "      <th>2</th>\n",
       "      <td>2011-01-20 02:00:00</td>\n",
       "      <td>1</td>\n",
       "      <td>0</td>\n",
       "      <td>1</td>\n",
       "      <td>1</td>\n",
       "      <td>10.66</td>\n",
       "      <td>13.635</td>\n",
       "      <td>56</td>\n",
       "      <td>0.0000</td>\n",
       "      <td>3</td>\n",
       "      <td>1</td>\n",
       "      <td>5</td>\n",
       "      <td>2</td>\n",
       "    </tr>\n",
       "    <tr>\n",
       "      <th>3</th>\n",
       "      <td>2011-01-20 03:00:00</td>\n",
       "      <td>1</td>\n",
       "      <td>0</td>\n",
       "      <td>1</td>\n",
       "      <td>1</td>\n",
       "      <td>10.66</td>\n",
       "      <td>12.880</td>\n",
       "      <td>56</td>\n",
       "      <td>11.0014</td>\n",
       "      <td>3</td>\n",
       "      <td>1</td>\n",
       "      <td>5</td>\n",
       "      <td>3</td>\n",
       "    </tr>\n",
       "    <tr>\n",
       "      <th>4</th>\n",
       "      <td>2011-01-20 04:00:00</td>\n",
       "      <td>1</td>\n",
       "      <td>0</td>\n",
       "      <td>1</td>\n",
       "      <td>1</td>\n",
       "      <td>10.66</td>\n",
       "      <td>12.880</td>\n",
       "      <td>56</td>\n",
       "      <td>11.0014</td>\n",
       "      <td>3</td>\n",
       "      <td>1</td>\n",
       "      <td>5</td>\n",
       "      <td>4</td>\n",
       "    </tr>\n",
       "  </tbody>\n",
       "</table>\n",
       "</div>"
      ],
      "text/plain": [
       "              datetime  season  holiday  workingday  weather   temp   atemp  \\\n",
       "0  2011-01-20 00:00:00       1        0           1        1  10.66  11.365   \n",
       "1  2011-01-20 01:00:00       1        0           1        1  10.66  13.635   \n",
       "2  2011-01-20 02:00:00       1        0           1        1  10.66  13.635   \n",
       "3  2011-01-20 03:00:00       1        0           1        1  10.66  12.880   \n",
       "4  2011-01-20 04:00:00       1        0           1        1  10.66  12.880   \n",
       "\n",
       "   humidity  windspeed  weekday  month  day_part  hour  \n",
       "0        56    26.0027        3      1         5     0  \n",
       "1        56     0.0000        3      1         5     1  \n",
       "2        56     0.0000        3      1         5     2  \n",
       "3        56    11.0014        3      1         5     3  \n",
       "4        56    11.0014        3      1         5     4  "
      ]
     },
     "execution_count": 84,
     "metadata": {},
     "output_type": "execute_result"
    }
   ],
   "source": [
    "prepared_test.head()"
   ]
  },
  {
   "cell_type": "markdown",
   "metadata": {},
   "source": [
    "#### Logarithmic transformation of dependent columns"
   ]
  },
  {
   "cell_type": "code",
   "execution_count": null,
   "metadata": {
    "collapsed": true
   },
   "outputs": [],
   "source": [
    "for col in ['casual', 'registered', 'count']:\n",
    "    train_df['%s_log' % col] = np.log1p(train_df[col])"
   ]
  },
  {
   "cell_type": "markdown",
   "metadata": {},
   "source": [
    "### Data visualization"
   ]
  },
  {
   "cell_type": "code",
   "execution_count": 88,
   "metadata": {},
   "outputs": [
    {
     "data": {
      "image/png": "[encoded data removed]",
      "text/plain": [
       "<matplotlib.figure.Figure at 0x120ca47f0>"
      ]
     },
     "metadata": {},
     "output_type": "display_data"
    }
   ],
   "source": [
    "train_df.groupby('season')['count'].sum().plot.bar();"
   ]
  },
  {
   "cell_type": "code",
   "execution_count": 89,
   "metadata": {},
   "outputs": [
    {
     "data": {
      "image/png": "[encoded data removed]",
      "text/plain": [
       "<matplotlib.figure.Figure at 0x119b46ba8>"
      ]
     },
     "metadata": {},
     "output_type": "display_data"
    }
   ],
   "source": [
    "train_df.groupby('weather')['count'].sum().plot.bar();"
   ]
  },
  {
   "cell_type": "code",
   "execution_count": 93,
   "metadata": {},
   "outputs": [
    {
     "data": {
      "image/png": "[encoded data removed]",
      "text/plain": [
       "<matplotlib.figure.Figure at 0x16ff40978>"
      ]
     },
     "metadata": {},
     "output_type": "display_data"
    }
   ],
   "source": [
    "train_df.groupby('holiday')['count'].sum().plot.bar();"
   ]
  },
  {
   "cell_type": "code",
   "execution_count": 94,
   "metadata": {},
   "outputs": [
    {
     "data": {
      "image/png": "[encoded data removed]",
      "text/plain": [
       "<matplotlib.figure.Figure at 0x120f74828>"
      ]
     },
     "metadata": {},
     "output_type": "display_data"
    }
   ],
   "source": [
    "plt.hist(train_df.windspeed);"
   ]
  },
  {
   "cell_type": "code",
   "execution_count": 95,
   "metadata": {},
   "outputs": [
    {
     "data": {
      "image/png": "[encoded data removed]",
      "text/plain": [
       "<matplotlib.figure.Figure at 0x1717ad198>"
      ]
     },
     "metadata": {},
     "output_type": "display_data"
    }
   ],
   "source": [
    "plt.hist(train_df.temp);"
   ]
  },
  {
   "cell_type": "code",
   "execution_count": 96,
   "metadata": {},
   "outputs": [
    {
     "data": {
      "image/png": "[encoded data removed]",
      "text/plain": [
       "<matplotlib.figure.Figure at 0x177dd0668>"
      ]
     },
     "metadata": {},
     "output_type": "display_data"
    }
   ],
   "source": [
    "plt.hist(train_df.humidity);"
   ]
  },
  {
   "cell_type": "code",
   "execution_count": 26,
   "metadata": {},
   "outputs": [
    {
     "data": {
      "image/png": "[encoded data removed]",
      "text/plain": [
       "<matplotlib.figure.Figure at 0x1197c9860>"
      ]
     },
     "metadata": {},
     "output_type": "display_data"
    }
   ],
   "source": [
    "prepared_train.groupby('weekday')['count'].sum().plot.bar();"
   ]
  },
  {
   "cell_type": "code",
   "execution_count": 27,
   "metadata": {},
   "outputs": [
    {
     "data": {
      "image/png": "[encoded data removed]",
      "text/plain": [
       "<matplotlib.figure.Figure at 0x1197cfe10>"
      ]
     },
     "metadata": {},
     "output_type": "display_data"
    }
   ],
   "source": [
    "prepared_train.groupby('month')['count'].sum().plot.bar();"
   ]
  },
  {
   "cell_type": "code",
   "execution_count": 28,
   "metadata": {},
   "outputs": [
    {
     "data": {
      "image/png": "[encoded data removed]",
      "text/plain": [
       "<matplotlib.figure.Figure at 0x119cbd048>"
      ]
     },
     "metadata": {},
     "output_type": "display_data"
    }
   ],
   "source": [
    "prepared_train.groupby('hour')['count'].sum().plot.bar();"
   ]
  },
  {
   "cell_type": "code",
   "execution_count": 29,
   "metadata": {},
   "outputs": [
    {
     "data": {
      "image/png": "[encoded data removed]",
      "text/plain": [
       "<matplotlib.figure.Figure at 0x119ca5cc0>"
      ]
     },
     "metadata": {},
     "output_type": "display_data"
    }
   ],
   "source": [
    "prepared_train.groupby('day_part')['count'].sum().plot.bar();"
   ]
  },
  {
   "cell_type": "code",
   "execution_count": 100,
   "metadata": {},
   "outputs": [
    {
     "data": {
      "image/png": "[encoded data removed]",
      "text/plain": [
       "<matplotlib.figure.Figure at 0x17841c320>"
      ]
     },
     "metadata": {},
     "output_type": "display_data"
    }
   ],
   "source": [
    "# Correlations with datatime features\n",
    "plt.figure(figsize=(8, 5))\n",
    "sbr.heatmap(prepared_train[['weekday', 'month', 'hour', 'day_part', 'casual', 'registered', 'count']].corr());"
   ]
  },
  {
   "cell_type": "code",
   "execution_count": 102,
   "metadata": {},
   "outputs": [
    {
     "data": {
      "image/png": "[encoded data removed]",
      "text/plain": [
       "<matplotlib.figure.Figure at 0x1069c2240>"
      ]
     },
     "metadata": {},
     "output_type": "display_data"
    }
   ],
   "source": [
    "# Correlations with weather features\n",
    "plt.figure(figsize=(8, 5))\n",
    "sbr.heatmap(prepared_train[['weather', 'temp', 'humidity', 'windspeed', 'casual', 'registered', 'count']].corr());"
   ]
  },
  {
   "cell_type": "markdown",
   "metadata": {},
   "source": [
    "### Create cross validation\n",
    "\n",
    "\n",
    "In case, that we need predict 'future', values train data should be splitted by day value for each month"
   ]
  },
  {
   "cell_type": "code",
   "execution_count": 73,
   "metadata": {
    "collapsed": true
   },
   "outputs": [],
   "source": [
    "X_train = prepared_train[train_df.datetime.apply(lambda d: pd.to_datetime(d).day) < 17]\n",
    "X_test = prepared_train[train_df.datetime.apply(lambda d: pd.to_datetime(d).day) >= 17]"
   ]
  },
  {
   "cell_type": "code",
   "execution_count": 75,
   "metadata": {},
   "outputs": [
    {
     "name": "stdout",
     "output_type": "stream",
     "text": [
      "train (9174, 19)\n",
      "test (1712, 19)\n"
     ]
    }
   ],
   "source": [
    "print('train', X_train.shape)\n",
    "print('test', X_test.shape)"
   ]
  },
  {
   "cell_type": "code",
   "execution_count": 86,
   "metadata": {
    "collapsed": true
   },
   "outputs": [],
   "source": [
    "# Divide columns by type for a pipeline\n",
    "binary_data_columns = ['holiday', 'workingday']\n",
    "categorical_data_columns = ['season', 'weather', 'weekday', 'month', 'day_part', 'hour']\n",
    "numeric_data_columns = ['temp', 'humidity', 'windspeed']"
   ]
  },
  {
   "cell_type": "markdown",
   "metadata": {},
   "source": [
    "## Train models"
   ]
  },
  {
   "cell_type": "markdown",
   "metadata": {},
   "source": [
    "### RandomForest"
   ]
  },
  {
   "cell_type": "markdown",
   "metadata": {},
   "source": [
    "#### Use as a target count_log"
   ]
  },
  {
   "cell_type": "code",
   "execution_count": 28,
   "metadata": {
    "collapsed": true
   },
   "outputs": [],
   "source": [
    "estimator_log_count = Pipeline([\n",
    "    ('feature_processing', FeatureUnion(transformer_list=[\n",
    "        ('binary_variables_processing', Pipeline([\n",
    "            ('selecting', ItemSelector(key=binary_data_columns))\n",
    "        ])), \n",
    "        ('numeric_variables_processing', Pipeline([\n",
    "            ('selecting', ItemSelector(key=numeric_data_columns)),\n",
    "            ('scaling', StandardScaler(with_mean = 0))            \n",
    "        ])),\n",
    "        ('categorical_variables_processing', Pipeline([\n",
    "            ('selecting', ItemSelector(key=categorical_data_columns)),\n",
    "            ('hot_encoding', OneHotEncoder(handle_unknown = 'ignore'))          \n",
    "        ])),\n",
    "    ])),\n",
    "    ('rf', RandomForestRegressor(random_state=42, n_jobs=-1))\n",
    "])"
   ]
  },
  {
   "cell_type": "code",
   "execution_count": 29,
   "metadata": {
    "collapsed": true
   },
   "outputs": [],
   "source": [
    "estimator_log_count.set_params(\n",
    "    rf__max_depth=15, \n",
    "    rf__min_samples_leaf=2, \n",
    "    rf__n_estimators=500\n",
    ");"
   ]
  },
  {
   "cell_type": "code",
   "execution_count": 30,
   "metadata": {
    "collapsed": true
   },
   "outputs": [],
   "source": [
    "estimator_log_count.fit(X_train, X_train.count_log);"
   ]
  },
  {
   "cell_type": "code",
   "execution_count": 229,
   "metadata": {},
   "outputs": [
    {
     "name": "stdout",
     "output_type": "stream",
     "text": [
      "Error on train: 0.0549239630163\n",
      "Error on test: 0.0972752105405\n"
     ]
    }
   ],
   "source": [
    "evaluate_model(estimator_log_count, 'count_log')"
   ]
  },
  {
   "cell_type": "code",
   "execution_count": 33,
   "metadata": {},
   "outputs": [
    {
     "name": "stdout",
     "output_type": "stream",
     "text": [
      "submission_log_count_solution.csv successfully created\n"
     ]
    }
   ],
   "source": [
    "# the public score is 0.44400\n",
    "rf_pred_count = predict_test(estimator_log_count, 'count_log')\n",
    "make_submission(rf_pred_count, 'log_count_solution')"
   ]
  },
  {
   "cell_type": "markdown",
   "metadata": {},
   "source": [
    "#### Use as a target casual_log"
   ]
  },
  {
   "cell_type": "code",
   "execution_count": 34,
   "metadata": {
    "collapsed": true
   },
   "outputs": [],
   "source": [
    "estimator_casual = Pipeline([\n",
    "    ('feature_processing', FeatureUnion(transformer_list=[\n",
    "        ('binary_variables_processing', Pipeline([\n",
    "            ('selecting', ItemSelector(key=binary_data_columns))\n",
    "        ])), \n",
    "        ('numeric_variables_processing', Pipeline([\n",
    "            ('selecting', ItemSelector(key=numeric_data_columns)),\n",
    "            ('scaling', StandardScaler(with_mean = 0))            \n",
    "        ])),\n",
    "        ('categorical_variables_processing', Pipeline([\n",
    "            ('selecting', ItemSelector(key=categorical_data_columns)),\n",
    "            ('hot_encoding', OneHotEncoder(handle_unknown = 'ignore'))          \n",
    "        ])),\n",
    "    ])),\n",
    "    ('rf', RandomForestRegressor(random_state=42, n_jobs=-1))\n",
    "])"
   ]
  },
  {
   "cell_type": "code",
   "execution_count": 35,
   "metadata": {
    "collapsed": true
   },
   "outputs": [],
   "source": [
    "estimator_casual.set_params(\n",
    "    rf__max_depth=25, \n",
    "    rf__min_samples_leaf=5, \n",
    "    rf__n_estimators=800\n",
    ");"
   ]
  },
  {
   "cell_type": "code",
   "execution_count": 36,
   "metadata": {
    "collapsed": true
   },
   "outputs": [],
   "source": [
    "estimator_casual.fit(X_train, X_train.casual_log);"
   ]
  },
  {
   "cell_type": "code",
   "execution_count": 54,
   "metadata": {},
   "outputs": [
    {
     "name": "stdout",
     "output_type": "stream",
     "text": [
      "Error on train: 0.170955485681\n",
      "Error on test: 0.220909017425\n"
     ]
    }
   ],
   "source": [
    "evaluate_model(estimator_casual, 'casual_log')"
   ]
  },
  {
   "cell_type": "code",
   "execution_count": 38,
   "metadata": {
    "collapsed": true
   },
   "outputs": [],
   "source": [
    "rf_pred_cas = predict_test(estimator_casual, 'casual_log')"
   ]
  },
  {
   "cell_type": "markdown",
   "metadata": {},
   "source": [
    "#### Use as a target registered_log"
   ]
  },
  {
   "cell_type": "code",
   "execution_count": 39,
   "metadata": {
    "collapsed": true
   },
   "outputs": [],
   "source": [
    "estimator_registered = Pipeline([\n",
    "    ('feature_processing', FeatureUnion(transformer_list=[\n",
    "        ('binary_variables_processing', Pipeline([\n",
    "            ('selecting', ItemSelector(key=binary_data_columns))\n",
    "        ])), \n",
    "        ('numeric_variables_processing', Pipeline([\n",
    "            ('selecting', ItemSelector(key=numeric_data_columns)),\n",
    "            ('scaling', StandardScaler(with_mean = 0))            \n",
    "        ])),\n",
    "        ('categorical_variables_processing', Pipeline([\n",
    "            ('selecting', ItemSelector(key=categorical_data_columns)),\n",
    "            ('hot_encoding', OneHotEncoder(handle_unknown = 'ignore'))          \n",
    "        ])),\n",
    "    ])),\n",
    "    ('rf', RandomForestRegressor(random_state=42, n_jobs=-1))\n",
    "])"
   ]
  },
  {
   "cell_type": "code",
   "execution_count": 40,
   "metadata": {
    "collapsed": true
   },
   "outputs": [],
   "source": [
    "estimator_registered.set_params(\n",
    "    rf__max_depth=25, \n",
    "    rf__min_samples_leaf=1, \n",
    "    rf__n_estimators=1200\n",
    ");"
   ]
  },
  {
   "cell_type": "code",
   "execution_count": 41,
   "metadata": {
    "collapsed": true
   },
   "outputs": [],
   "source": [
    "estimator_registered.fit(X_train, X_train.registered_log);"
   ]
  },
  {
   "cell_type": "code",
   "execution_count": 59,
   "metadata": {},
   "outputs": [
    {
     "name": "stdout",
     "output_type": "stream",
     "text": [
      "Error on train: 0.0403375496369\n",
      "Error on test: 0.107388319168\n"
     ]
    }
   ],
   "source": [
    "evaluate_model(estimator_registered, 'registered_log')"
   ]
  },
  {
   "cell_type": "code",
   "execution_count": 43,
   "metadata": {
    "collapsed": true
   },
   "outputs": [],
   "source": [
    "rf_pred_reg = predict_test(estimator_registered, 'registered_log')"
   ]
  },
  {
   "cell_type": "markdown",
   "metadata": {},
   "source": [
    "#### Get summ of registered and causual"
   ]
  },
  {
   "cell_type": "code",
   "execution_count": 44,
   "metadata": {
    "collapsed": true
   },
   "outputs": [],
   "source": [
    "rf_reg_cas = rf_pred_reg + rf_pred_cas"
   ]
  },
  {
   "cell_type": "markdown",
   "metadata": {},
   "source": [
    "#### Try get mean from count  and registered with causual"
   ]
  },
  {
   "cell_type": "code",
   "execution_count": 45,
   "metadata": {
    "collapsed": true
   },
   "outputs": [],
   "source": [
    "rf_mean_log = 0.6 * rf_pred_count + 0.4 * rf_reg_cas"
   ]
  },
  {
   "cell_type": "code",
   "execution_count": 46,
   "metadata": {},
   "outputs": [
    {
     "name": "stdout",
     "output_type": "stream",
     "text": [
      "submission_rf_mean_log_06_04.csv successfully created\n"
     ]
    }
   ],
   "source": [
    "# the public score is 0.44073\n",
    "make_submission(rf_mean_log, 'rf_mean_log_06_04')"
   ]
  },
  {
   "cell_type": "markdown",
   "metadata": {
    "collapsed": true
   },
   "source": [
    "### XGBoost"
   ]
  },
  {
   "cell_type": "markdown",
   "metadata": {},
   "source": [
    "#### Use as a target  count_log"
   ]
  },
  {
   "cell_type": "code",
   "execution_count": 47,
   "metadata": {
    "collapsed": true
   },
   "outputs": [],
   "source": [
    "estimator_xgb_count = Pipeline([\n",
    "    ('feature_processing', FeatureUnion(transformer_list=[\n",
    "        ('binary_variables_processing', Pipeline([\n",
    "            ('selecting', ItemSelector(key=binary_data_columns))\n",
    "        ])), \n",
    "        ('numeric_variables_processing', Pipeline([\n",
    "            ('selecting', ItemSelector(key=numeric_data_columns)),\n",
    "            ('scaling', StandardScaler(with_mean = 0))            \n",
    "        ])),\n",
    "        ('categorical_variables_processing', Pipeline([\n",
    "            ('selecting', ItemSelector(key=categorical_data_columns)),\n",
    "            ('hot_encoding', OneHotEncoder(handle_unknown = 'ignore'))          \n",
    "        ])),\n",
    "    ])),\n",
    "    ('xgb', XGBRegressor())\n",
    "])"
   ]
  },
  {
   "cell_type": "code",
   "execution_count": 49,
   "metadata": {
    "collapsed": true
   },
   "outputs": [],
   "source": [
    "parameters_grid_xgb = {\n",
    "    'xgb__gamma': (0.05, 0.1, 0.3, 0.5, 0.8, 1),\n",
    "    'xgb__max_depth': (3, 5, 8, 11, 15, 18, 25),\n",
    "    'xgb__min_child_weight': (1, 3, 5, 7),\n",
    "    'xgb__reg_lambda': (0.01, 0.1, 1),\n",
    "    'xgb__reg_alpha': (0.01, 0.5, 1.0),\n",
    "}"
   ]
  },
  {
   "cell_type": "code",
   "execution_count": 50,
   "metadata": {
    "collapsed": true
   },
   "outputs": [],
   "source": [
    "estimator_xgb_count.set_params(\n",
    "    xgb__gamma=0.8,\n",
    "    xgb__max_depth=25,\n",
    "    xgb__min_child_weight=3,\n",
    "    xgb__reg_alpha=0.5,\n",
    "    xgb__reg_lambda=1\n",
    ");"
   ]
  },
  {
   "cell_type": "code",
   "execution_count": 51,
   "metadata": {
    "collapsed": true
   },
   "outputs": [],
   "source": [
    "estimator_xgb_count.fit(X_train, X_train.count_log);"
   ]
  },
  {
   "cell_type": "code",
   "execution_count": 76,
   "metadata": {},
   "outputs": [
    {
     "name": "stdout",
     "output_type": "stream",
     "text": [
      "Error on train: 0.0640555858782\n",
      "Error on test: 0.09724422693\n"
     ]
    }
   ],
   "source": [
    "evaluate_model(estimator_xgb_count, 'count_log')"
   ]
  },
  {
   "cell_type": "markdown",
   "metadata": {},
   "source": [
    "#### Use as a target  registed_log"
   ]
  },
  {
   "cell_type": "code",
   "execution_count": 53,
   "metadata": {
    "collapsed": true
   },
   "outputs": [],
   "source": [
    "estimator_xgb_registered = Pipeline([\n",
    "    ('feature_processing', FeatureUnion(transformer_list=[\n",
    "        ('binary_variables_processing', Pipeline([\n",
    "            ('selecting', ItemSelector(key=binary_data_columns))\n",
    "        ])), \n",
    "        ('numeric_variables_processing', Pipeline([\n",
    "            ('selecting', ItemSelector(key=numeric_data_columns)),\n",
    "            ('scaling', StandardScaler(with_mean = 0))            \n",
    "        ])),\n",
    "        ('categorical_variables_processing', Pipeline([\n",
    "            ('selecting', ItemSelector(key=categorical_data_columns)),\n",
    "            ('hot_encoding', OneHotEncoder(handle_unknown = 'ignore'))          \n",
    "        ])),\n",
    "    ])),\n",
    "    ('xgb', XGBRegressor())\n",
    "])"
   ]
  },
  {
   "cell_type": "code",
   "execution_count": 54,
   "metadata": {
    "collapsed": true
   },
   "outputs": [],
   "source": [
    "estimator_xgb_registered.set_params(\n",
    "    xgb__gamma=0.1,\n",
    "    xgb__max_depth=18,\n",
    "    xgb__min_child_weight=7,\n",
    "    xgb__reg_alpha=1.0,\n",
    "    xgb__reg_lambda=0.1\n",
    ");"
   ]
  },
  {
   "cell_type": "code",
   "execution_count": 55,
   "metadata": {
    "collapsed": true
   },
   "outputs": [],
   "source": [
    "estimator_xgb_registered.fit(X_train, X_train.registered_log);"
   ]
  },
  {
   "cell_type": "code",
   "execution_count": 80,
   "metadata": {},
   "outputs": [
    {
     "name": "stdout",
     "output_type": "stream",
     "text": [
      "Error on train: 0.0499447241439\n",
      "Error on test: 0.108028205857\n"
     ]
    }
   ],
   "source": [
    "evaluate_model(estimator_xgb_registered, 'registered_log')"
   ]
  },
  {
   "cell_type": "markdown",
   "metadata": {},
   "source": [
    "#### Use as a target causual_log"
   ]
  },
  {
   "cell_type": "code",
   "execution_count": 57,
   "metadata": {
    "collapsed": true
   },
   "outputs": [],
   "source": [
    "estimator_xgb_causual = Pipeline([\n",
    "    ('feature_processing', FeatureUnion(transformer_list=[\n",
    "        ('binary_variables_processing', Pipeline([\n",
    "            ('selecting', ItemSelector(key=binary_data_columns))\n",
    "        ])), \n",
    "        ('numeric_variables_processing', Pipeline([\n",
    "            ('selecting', ItemSelector(key=numeric_data_columns)),\n",
    "            ('scaling', StandardScaler(with_mean = 0))            \n",
    "        ])),\n",
    "        ('categorical_variables_processing', Pipeline([\n",
    "            ('selecting', ItemSelector(key=categorical_data_columns)),\n",
    "            ('hot_encoding', OneHotEncoder(handle_unknown = 'ignore'))          \n",
    "        ])),\n",
    "    ])),\n",
    "    ('xgb', XGBRegressor())\n",
    "])"
   ]
  },
  {
   "cell_type": "code",
   "execution_count": 58,
   "metadata": {
    "collapsed": true
   },
   "outputs": [],
   "source": [
    "estimator_xgb_causual.set_params(\n",
    "    xgb__gamma=0.8,\n",
    "    xgb__max_depth=5,\n",
    "    xgb__min_child_weight=1,\n",
    "    xgb__reg_alpha=0.01,\n",
    "    xgb__reg_lambda=0.01\n",
    ");"
   ]
  },
  {
   "cell_type": "code",
   "execution_count": 59,
   "metadata": {
    "collapsed": true
   },
   "outputs": [],
   "source": [
    "estimator_xgb_causual.fit(X_train, X_train.casual_log);"
   ]
  },
  {
   "cell_type": "code",
   "execution_count": 84,
   "metadata": {},
   "outputs": [
    {
     "name": "stdout",
     "output_type": "stream",
     "text": [
      "Error on train: 0.19559079732\n",
      "Error on test: 0.220215750891\n"
     ]
    }
   ],
   "source": [
    "evaluate_model(estimator_xgb_causual, 'casual_log')"
   ]
  },
  {
   "cell_type": "markdown",
   "metadata": {},
   "source": [
    "#### Evaluate xgboost models"
   ]
  },
  {
   "cell_type": "markdown",
   "metadata": {},
   "source": [
    "###### count_log"
   ]
  },
  {
   "cell_type": "code",
   "execution_count": 61,
   "metadata": {
    "collapsed": true
   },
   "outputs": [],
   "source": [
    "xgb_count = predict_test(estimator_xgb_count, 'count_log')"
   ]
  },
  {
   "cell_type": "code",
   "execution_count": 62,
   "metadata": {},
   "outputs": [
    {
     "name": "stdout",
     "output_type": "stream",
     "text": [
      "submission_xgb_count.csv successfully created\n"
     ]
    }
   ],
   "source": [
    "# the public score is 0.43853\n",
    "make_submission(xgb_count, 'xgb_count')"
   ]
  },
  {
   "cell_type": "markdown",
   "metadata": {},
   "source": [
    "##### registered + casual"
   ]
  },
  {
   "cell_type": "code",
   "execution_count": 65,
   "metadata": {
    "collapsed": true
   },
   "outputs": [],
   "source": [
    "xgb_reg = predict_test(estimator_xgb_registered, 'registered_log')\n",
    "xgb_caus = predict_test(estimator_xgb_causual, 'casual_log')\n",
    "xgb_casul_reg = xgb_caus + xgb_reg"
   ]
  },
  {
   "cell_type": "code",
   "execution_count": 66,
   "metadata": {},
   "outputs": [
    {
     "name": "stdout",
     "output_type": "stream",
     "text": [
      "submission_xgb_casul_reg.csv successfully created\n"
     ]
    }
   ],
   "source": [
    "# the public score is 0.43793\n",
    "make_submission(xgb_casul_reg, 'xgb_casul_reg')"
   ]
  },
  {
   "cell_type": "markdown",
   "metadata": {},
   "source": [
    "##### mean for count + casul + reg"
   ]
  },
  {
   "cell_type": "code",
   "execution_count": 68,
   "metadata": {},
   "outputs": [
    {
     "name": "stdout",
     "output_type": "stream",
     "text": [
      "submission_xgb_mean.csv successfully created\n"
     ]
    }
   ],
   "source": [
    "# the public score is 0.43386\n",
    "xgb_mean = (xgb_count + xgb_casul_reg) / 2\n",
    "make_submission(xgb_mean, 'xgb_mean')"
   ]
  },
  {
   "cell_type": "markdown",
   "metadata": {},
   "source": [
    "### Build ensemble for rf and xgb "
   ]
  },
  {
   "cell_type": "code",
   "execution_count": 70,
   "metadata": {},
   "outputs": [
    {
     "name": "stdout",
     "output_type": "stream",
     "text": [
      "submission_ensem_03_07.csv successfully created\n"
     ]
    }
   ],
   "source": [
    "# the public score is 0.43195\n",
    "ensem_03_07 = 0.3 * rf_mean_log + 0.7 * xgb_mean\n",
    "make_submission(ensem_03_07, 'ensem_03_07')"
   ]
  },
  {
   "cell_type": "code",
   "execution_count": null,
   "metadata": {
    "collapsed": true
   },
   "outputs": [],
   "source": []
  }
 ],
 "metadata": {
  "kernelspec": {
   "display_name": "Python 3",
   "language": "python",
   "name": "python3"
  },
  "language_info": {
   "codemirror_mode": {
    "name": "ipython",
    "version": 3
   },
   "file_extension": ".py",
   "mimetype": "text/x-python",
   "name": "python",
   "nbconvert_exporter": "python",
   "pygments_lexer": "ipython3",
   "version": "3.5.1"
  }
 },
 "nbformat": 4,
 "nbformat_minor": 1
}
